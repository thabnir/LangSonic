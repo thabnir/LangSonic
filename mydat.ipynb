{
 "cells": [
  {
   "cell_type": "code",
   "execution_count": 18,
   "metadata": {},
   "outputs": [],
   "source": [
    "import os\n",
    "import librosa\n",
    "import librosa.display\n",
    "import matplotlib.pyplot as plt\n",
    "import numpy as np\n",
    "from tqdm import tqdm\n",
    "from PIL import Image\n",
    "import resampy"
   ]
  },
  {
   "cell_type": "code",
   "execution_count": 19,
   "metadata": {},
   "outputs": [],
   "source": [
    "# old method for loading audio\n",
    "def audio_to_spectrogram(audio_file, output_dir):\n",
    "    # Load the audio file\n",
    "    audio, sr = librosa.load(\n",
    "        audio_file, sr=None\n",
    "    )  # sr=None preserves the original sampling rate\n",
    "\n",
    "    # Create the spectrogram\n",
    "    S = librosa.feature.melspectrogram(y=audio, sr=sr)\n",
    "    S_dB = librosa.power_to_db(S, ref=np.max)\n",
    "\n",
    "    # Set the file name for the spectrogram\n",
    "    fname = os.path.basename(audio_file).rsplit(\".\")[0] + \".png\"\n",
    "    spectrogram_file = os.path.join(output_dir, fname)\n",
    "\n",
    "    # Plot and save the spectrogram as an image\n",
    "    plt.figure(figsize=(8, 8))  # Adjust the figure size as needed\n",
    "    librosa.display.specshow(S_dB)\n",
    "    plt.savefig(spectrogram_file, bbox_inches=\"tight\", pad_inches=0)\n",
    "    plt.close()\n",
    "\n",
    "    return spectrogram_file"
   ]
  },
  {
   "cell_type": "code",
   "execution_count": 20,
   "metadata": {},
   "outputs": [],
   "source": [
    "from transformers import WhisperFeatureExtractor\n",
    "\n",
    "\n",
    "# https://towardsdatascience.com/spoken-language-recognition-on-mozilla-common-voice-part-i-3f5400bbbcd8\n",
    "# reasoning behind feature size of 13 (or 20)\n",
    "\n",
    "\n",
    "class CustomWhisperFeatureExtractor(WhisperFeatureExtractor):\n",
    "    def __init__(self, feature_size=13, **kwargs):\n",
    "        super().__init__(feature_size=feature_size, **kwargs)\n",
    "\n",
    "\n",
    "feature_extractor = CustomWhisperFeatureExtractor(\n",
    "    feature_size=13, sampling_rate=16000, padding_value=0.0, return_attention_mask=False\n",
    ")"
   ]
  },
  {
   "cell_type": "code",
   "execution_count": 21,
   "metadata": {},
   "outputs": [],
   "source": [
    "# based on https://github.com/pietz/language-recognition/blob/master/Language%20Classifier.ipynb\n",
    "# see https://towardsdatascience.com/spoken-language-recognition-on-mozilla-common-voice-part-i-3f5400bbbcd8\n",
    "# for choice of features (13 or 20)\n",
    "def mp3_to_img(path, min_length=0.0, max_length=20.0, height=13):\n",
    "    signal, sr = librosa.load(path)\n",
    "    signal = resampy.resample(signal, sr_orig=sr, sr_new=16000, res_type=\"kaiser_fast\")\n",
    "    # hl = signal.shape[0] // (width * 1.1)  # Cut away 5% from start and end\n",
    "\n",
    "    duration = librosa.get_duration(y=signal, sr=16000)\n",
    "    if duration < min_length or duration > max_length:\n",
    "        # print(f\"Skipping {path} due to length {duration}\")\n",
    "        return None, None\n",
    "\n",
    "    f = feature_extractor(\n",
    "        signal,\n",
    "        sampling_rate=16000,\n",
    "        padding=\"max_length\", # pads to 30 seconds\n",
    "        do_normalize=True,\n",
    "        feature_size=height,\n",
    "        return_attention_mask=False,\n",
    "        # hop_length=hl,\n",
    "    )\n",
    "    # [print(k, v[0].shape) for k, v in f.items()]\n",
    "\n",
    "    # spec = librosa.feature.melspectrogram(y=signal, n_mels=height, hop_length=int(hl))\n",
    "    input_features = np.array(f[\"input_features\"])[0]\n",
    "    # truncate to width of 1000\n",
    "    # print(input_features.shape)\n",
    "    input_features = input_features[:, :1000]\n",
    "\n",
    "    fname = os.path.basename(path).rsplit(\".\")[0]\n",
    "    return input_features, fname\n",
    "\n",
    "    # img_db = librosa.power_to_db(spec, ref=np.max)\n",
    "\n",
    "    # start = (img_db.shape[1] - width) // 2\n",
    "\n",
    "    # return img_db[:, start : start + width], fname\n",
    "\n",
    "\n",
    "# https://stackoverflow.com/questions/56719138/how-can-i-save-a-librosa-spectrogram-plot-as-a-specific-sized-image/57204349#57204349\n",
    "def scale_minmax(X, min=0.0, max=1.0):\n",
    "    X_std = (X - X.min()) / (X.max() - X.min())\n",
    "    X_scaled = X_std * (max - min) + min\n",
    "    return X_scaled\n",
    "\n",
    "\n",
    "# https://stackoverflow.com/questions/56719138/how-can-i-save-a-librosa-spectrogram-plot-as-a-specific-sized-image/57204349#57204349\n",
    "def save_spec(spec, out):\n",
    "    # min-max scale to fit inside 8-bit range\n",
    "    spec = scale_minmax(spec, 0, 255).astype(np.uint8)\n",
    "    img = np.flip(spec, axis=0)  # put low frequencies at the bottom in image\n",
    "    # img = 255 - img  # invert. make black==more energy\n",
    "\n",
    "    # save with PIL\n",
    "    # display(Image.fromarray(img))\n",
    "    Image.fromarray(img).save(out)"
   ]
  },
  {
   "cell_type": "code",
   "execution_count": 22,
   "metadata": {},
   "outputs": [
    {
     "name": "stdout",
     "output_type": "stream",
     "text": [
      "(13, 1000)\n"
     ]
    },
    {
     "data": {
      "image/png": "[encoded data removed]",
      "text/plain": [
       "<Figure size 640x480 with 1 Axes>"
      ]
     },
     "metadata": {},
     "output_type": "display_data"
    }
   ],
   "source": [
    "file = \"data/mp3/en/common_voice_en_604929.mp3\"\n",
    "file2 = \"data/mp3/fr/common_voice_fr_17301086.mp3\"\n",
    "example, fname = mp3_to_img(\"data/mp3/en/common_voice_en_25282.mp3\")\n",
    "# TODO: pad all to same length (1000 frames?)\n",
    "if example is not None:\n",
    "    print(example.shape)\n",
    "    # plot the spectrogram with librosa\n",
    "    librosa.display.specshow(\n",
    "        example,\n",
    "        x_axis=\"time\",\n",
    "        y_axis=\"mel\",\n",
    "        sr=feature_extractor.sampling_rate,\n",
    "        hop_length=feature_extractor.hop_length,\n",
    "    )"
   ]
  },
  {
   "cell_type": "code",
   "execution_count": 23,
   "metadata": {},
   "outputs": [],
   "source": [
    "MIN_DURATION_IN_SECONDS = 4.0\n",
    "MAX_DURATION_IN_SECONDS = 9.0\n",
    "\n",
    "import random\n",
    "\n",
    "\n",
    "def get_valid_lengths(input_dir):\n",
    "    if not os.path.exists(input_dir):\n",
    "        print(\"Input directory does not exist.\")\n",
    "        return\n",
    "\n",
    "    files = os.listdir(input_dir)\n",
    "    lengths = []\n",
    "    random.shuffle(files)\n",
    "    # files = files[:1000]\n",
    "    num_removed = 0\n",
    "    num_files = len(files)\n",
    "    for file in tqdm(files):\n",
    "        if file.endswith(\".mp3\"):\n",
    "            audio_file = os.path.join(input_dir, file)\n",
    "            length = librosa.get_duration(filename=audio_file)\n",
    "            if length > MIN_DURATION_IN_SECONDS and length < MAX_DURATION_IN_SECONDS:\n",
    "                lengths.append(length)\n",
    "            else:\n",
    "                print(f\"File {file} has length {length}.\")\n",
    "                num_removed += 1\n",
    "\n",
    "    print(f\"Removed {num_removed} files out of {num_files} files.\")\n",
    "    # equitvalent in pct:\n",
    "    print(f\"Removed {num_removed/num_files*100:.2f}% of files.\")\n",
    "    return lengths"
   ]
  },
  {
   "cell_type": "code",
   "execution_count": 24,
   "metadata": {},
   "outputs": [],
   "source": [
    "def make_spects(\n",
    "    input_dir,\n",
    "    output_dir,\n",
    "    num_files=100,\n",
    "    shuffle=True,\n",
    "    offset=0,\n",
    "    min_length=MIN_DURATION_IN_SECONDS,\n",
    "    max_length=MAX_DURATION_IN_SECONDS,\n",
    "):\n",
    "    # TODO: make it auto-detect files that have already been converted and skip them\n",
    "    # so this script can be run multiple times to add more files\n",
    "    if not os.path.exists(input_dir):\n",
    "        print(\"Input directory does not exist.\")\n",
    "        return\n",
    "\n",
    "    os.makedirs(output_dir, exist_ok=True)\n",
    "\n",
    "    files = os.listdir(input_dir)\n",
    "    if shuffle:\n",
    "        np.random.shuffle(files)\n",
    "\n",
    "    already_converted = os.listdir(output_dir)\n",
    "    # take intersection of files and already_converted\n",
    "    already_converted = set([f.rsplit(\".\")[0] for f in already_converted])\n",
    "    print(len(already_converted))\n",
    "    # subtract\n",
    "    files = [f for f in files if f.rsplit(\".\")[0] not in already_converted]\n",
    "    print(f\"Converting {len(files)} files.\")\n",
    "    # note: this doesn't work for files that have been read and found to be too long or too short\n",
    "    # and thus skipped\n",
    "    # those will be re-measured, re-determined to be too long or too short, and skipped again\n",
    "    # there are ~7000 of those per language...\n",
    "    # oh well\n",
    "    # could keep track of which files have been skipped previously and skip them again but whatever\n",
    "\n",
    "\n",
    "    files = files[offset : num_files + offset]\n",
    "    # files = files[:num_files]\n",
    "    print(f\"Converting {len(files)} files.\")\n",
    "\n",
    "    lengths = []\n",
    "    for file in tqdm(files):\n",
    "        if file.endswith(\".mp3\"):\n",
    "            audio_file = os.path.join(input_dir, file)\n",
    "            img, fname = mp3_to_img(path=audio_file, min_length=min_length, max_length=max_length)\n",
    "            if img is not None:\n",
    "                lengths.append(img.shape[1])\n",
    "                save_spec(img, os.path.join(output_dir, fname) + \".png\")\n",
    "            # print(img.shape)\n",
    "            # lengths.append(img.shape[1])\n",
    "            # convert to rgb using PIL\n",
    "            # img = Image.fromarray(img[0])\n",
    "            # display(img.convert(\"RGB\"))\n",
    "            # img.save(os.path.join(output_dir, fname) + \".png\")\n",
    "    return lengths # measured in number of timesteps (width of image)\n",
    "\n",
    "# current data used: <lang>_train_0, <lang>_train_1, <lang>_train_10\n",
    "# don't know why they skip 2-9 but whatever, they're not on huggingface\n",
    "# except for italian and spanish, which have <lang>_train_0, <lang>_train_1, <lang>_train_2\n",
    "\n",
    "# langs = [\"ar\", \"de\", \"en\", \"es\", \"fr\", \"hi\", \"it\", \"ja\", \"ru\", \"zh-CN\"]"
   ]
  },
  {
   "cell_type": "code",
   "execution_count": 27,
   "metadata": {},
   "outputs": [
    {
     "name": "stdout",
     "output_type": "stream",
     "text": [
      "Converting mp3 files in `data/mp3/de/` to spectrograms in `data/spectrogram/de_train_new/`\n",
      "72811\n",
      "Converting 47189 files.\n",
      "Converting 47189 files.\n"
     ]
    },
    {
     "name": "stderr",
     "output_type": "stream",
     "text": [
      "100%|██████████| 47189/47189 [55:11<00:00, 14.25it/s]  \n"
     ]
    },
    {
     "name": "stdout",
     "output_type": "stream",
     "text": [
      "Converting mp3 files in `data/mp3/en/` to spectrograms in `data/spectrogram/en_train_new/`\n",
      "73502\n",
      "Converting 46498 files.\n",
      "Converting 46498 files.\n"
     ]
    },
    {
     "name": "stderr",
     "output_type": "stream",
     "text": [
      "100%|██████████| 46498/46498 [49:48<00:00, 15.56it/s]  \n"
     ]
    },
    {
     "name": "stdout",
     "output_type": "stream",
     "text": [
      "Converting mp3 files in `data/mp3/es/` to spectrograms in `data/spectrogram/es_train_new/`\n",
      "73169\n",
      "Converting 46831 files.\n",
      "Converting 46831 files.\n"
     ]
    },
    {
     "name": "stderr",
     "output_type": "stream",
     "text": [
      "100%|██████████| 46831/46831 [45:38<00:00, 17.10it/s]  \n"
     ]
    },
    {
     "name": "stdout",
     "output_type": "stream",
     "text": [
      "Converting mp3 files in `data/mp3/fr/` to spectrograms in `data/spectrogram/fr_train_new/`\n",
      "70927\n",
      "Converting 49073 files.\n",
      "Converting 49073 files.\n"
     ]
    },
    {
     "name": "stderr",
     "output_type": "stream",
     "text": [
      "100%|██████████| 49073/49073 [42:07<00:00, 19.42it/s]  \n"
     ]
    },
    {
     "name": "stdout",
     "output_type": "stream",
     "text": [
      "Converting mp3 files in `data/mp3/it/` to spectrograms in `data/spectrogram/it_train_new/`\n",
      "71033\n",
      "Converting 48967 files.\n",
      "Converting 48967 files.\n"
     ]
    },
    {
     "name": "stderr",
     "output_type": "stream",
     "text": [
      "100%|██████████| 48967/48967 [42:05<00:00, 19.39it/s]  \n"
     ]
    }
   ],
   "source": [
    "\n",
    "langs = [\"de\", \"en\", \"es\", \"fr\", \"it\"]\n",
    "\n",
    "for lang in langs:\n",
    "    input_dir = f\"data/mp3/{lang}/\"\n",
    "    output_dir = f\"data/spectrogram/{lang}_train_new/\"\n",
    "    print(f\"Converting mp3 files in `{input_dir}` to spectrograms in `{output_dir}`\")\n",
    "    lens = make_spects(\n",
    "        input_dir,\n",
    "        output_dir,\n",
    "        num_files=120_000,\n",
    "        shuffle=False,\n",
    "        offset=0, # adding new files to the previously converted 20,000 ignoring previously converted files\n",
    "        min_length=MIN_DURATION_IN_SECONDS,\n",
    "        max_length=MAX_DURATION_IN_SECONDS,\n",
    "    )\n",
    "    # lens = get_valid_lengths(input_dir)\n",
    "    lens = np.array(lens)\n",
    "    # print(f\"Average length: {np.mean(lens)}\")\n",
    "    # print(f\"Max length: {np.max(lens)}\")\n",
    "    # print(f\"Min length: {np.min(lens)}\")"
   ]
  },
  {
   "cell_type": "code",
   "execution_count": null,
   "metadata": {},
   "outputs": [],
   "source": [
    "# # measure length of spectrograms\n",
    "# def get_spect_width(path):\n",
    "#     img = Image.open(path)\n",
    "#     return img.size[0]    \n",
    "    \n",
    "\n",
    "# # langs2 = [\"en\", \"de\"]\n",
    "# lengths = []\n",
    "# i = 0\n",
    "# for lang in langs:\n",
    "#     input_dir = f\"data/spectrogram/{lang}_train_new/\"\n",
    "#     lengths.append([])\n",
    "#     for file in tqdm(os.listdir(input_dir)):\n",
    "#         if file.endswith(\".png\"):\n",
    "#             path = os.path.join(input_dir, file)\n",
    "#             width = get_spect_width(path)\n",
    "#             lengths[i].append(width)\n",
    "    \n",
    "#     lens = np.array(lengths[i])\n",
    "#     print(f\"Average length: {np.mean(lens)}\")\n",
    "#     print(f\"Max length: {np.max(lens)}\")\n",
    "#     print(f\"Min length: {np.min(lens)}\")\n",
    "#     i += 1\n",
    "# # get average length\n",
    "# # get max length\n",
    "# # get min length\n",
    "\n"
   ]
  }
 ],
 "metadata": {
  "kernelspec": {
   "display_name": ".venv",
   "language": "python",
   "name": "python3"
  },
  "language_info": {
   "codemirror_mode": {
    "name": "ipython",
    "version": 3
   },
   "file_extension": ".py",
   "mimetype": "text/x-python",
   "name": "python",
   "nbconvert_exporter": "python",
   "pygments_lexer": "ipython3",
   "version": "3.10.5"
  }
 },
 "nbformat": 4,
 "nbformat_minor": 2
}
