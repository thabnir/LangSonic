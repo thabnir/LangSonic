{
 "cells": [
  {
   "cell_type": "code",
   "execution_count": 141,
   "metadata": {},
   "outputs": [],
   "source": [
    "import os\n",
    "import librosa\n",
    "import librosa.display\n",
    "import matplotlib.pyplot as plt\n",
    "import numpy as np\n",
    "from tqdm import tqdm\n",
    "from PIL import Image\n",
    "import resampy"
   ]
  },
  {
   "cell_type": "code",
   "execution_count": 142,
   "metadata": {},
   "outputs": [],
   "source": [
    "def audio_to_spectrogram(audio_file, output_dir):\n",
    "    # Load the audio file\n",
    "    audio, sr = librosa.load(\n",
    "        audio_file, sr=None\n",
    "    )  # sr=None preserves the original sampling rate\n",
    "\n",
    "    # Create the spectrogram\n",
    "    S = librosa.feature.melspectrogram(y=audio, sr=sr)\n",
    "    S_dB = librosa.power_to_db(S, ref=np.max)\n",
    "\n",
    "    # Set the file name for the spectrogram\n",
    "    fname = os.path.basename(audio_file).rsplit(\".\")[0] + \".png\"\n",
    "    spectrogram_file = os.path.join(output_dir, fname)\n",
    "\n",
    "    # Plot and save the spectrogram as an image\n",
    "    plt.figure(figsize=(8, 8))  # Adjust the figure size as needed\n",
    "    librosa.display.specshow(S_dB)\n",
    "    plt.savefig(spectrogram_file, bbox_inches=\"tight\", pad_inches=0)\n",
    "    plt.close()\n",
    "\n",
    "    return spectrogram_file"
   ]
  },
  {
   "cell_type": "code",
   "execution_count": 143,
   "metadata": {},
   "outputs": [],
   "source": [
    "# based on https://github.com/pietz/language-recognition/blob/master/Language%20Classifier.ipynb\n",
    "def mp3_to_img(path, height=192, width=192):\n",
    "    signal, sr = librosa.load(path)\n",
    "    signal = resampy.resample(signal, sr, 16000, res_type=\"kaiser_fast\")\n",
    "    hl = signal.shape[0] // (width * 1.1) # Cut away 5% from start and end\n",
    "\n",
    "    spec = librosa.feature.melspectrogram(y=signal, n_mels=height, hop_length=int(hl))\n",
    "\n",
    "    img_db = librosa.power_to_db(spec, ref=np.max)  # img = lr.logamplitude(spec)**2\n",
    "\n",
    "    start = (img_db.shape[1] - width) // 2\n",
    "    fname = os.path.basename(path).rsplit(\".\")[0]\n",
    "\n",
    "    return img_db[:, start : start + width], fname\n",
    "\n",
    "\n",
    "# https://stackoverflow.com/questions/56719138/how-can-i-save-a-librosa-spectrogram-plot-as-a-specific-sized-image/57204349#57204349\n",
    "def scale_minmax(X, min=0.0, max=1.0):\n",
    "    X_std = (X - X.min()) / (X.max() - X.min())\n",
    "    X_scaled = X_std * (max - min) + min\n",
    "    return X_scaled\n",
    "\n",
    "\n",
    "# https://stackoverflow.com/questions/56719138/how-can-i-save-a-librosa-spectrogram-plot-as-a-specific-sized-image/57204349#57204349\n",
    "def save_spec(spec, out):\n",
    "    # min-max scale to fit inside 8-bit range\n",
    "    spec = scale_minmax(spec, 0, 255).astype(np.uint8)\n",
    "    img = np.flip(spec, axis=0)  # put low frequencies at the bottom in image\n",
    "    img = 255 - img  # invert. make black==more energy\n",
    "\n",
    "    # save with PIL\n",
    "    Image.fromarray(img).save(out)"
   ]
  },
  {
   "cell_type": "code",
   "execution_count": 144,
   "metadata": {},
   "outputs": [
    {
     "name": "stdout",
     "output_type": "stream",
     "text": [
      "Converting mp3 files in `data/mp3/en_train_0/` to spectrograms in `data/spectrogram/en_train/`\n"
     ]
    },
    {
     "name": "stderr",
     "output_type": "stream",
     "text": [
      "100%|██████████| 1000/1000 [01:11<00:00, 13.90it/s]\n"
     ]
    },
    {
     "name": "stdout",
     "output_type": "stream",
     "text": [
      "Converting mp3 files in `data/mp3/zh-CN_train_0/` to spectrograms in `data/spectrogram/zh-CN_train/`\n"
     ]
    },
    {
     "name": "stderr",
     "output_type": "stream",
     "text": [
      "100%|██████████| 1000/1000 [01:07<00:00, 14.90it/s]\n"
     ]
    }
   ],
   "source": [
    "def make_spects(input_dir, output_dir, num_files=100, shuffle=True):\n",
    "    if not os.path.exists(input_dir):\n",
    "        print(\"Input directory does not exist.\")\n",
    "        return\n",
    "\n",
    "    os.makedirs(output_dir, exist_ok=True)\n",
    "\n",
    "    files = os.listdir(input_dir)\n",
    "    if shuffle:\n",
    "        np.random.shuffle(files)\n",
    "\n",
    "    files = files[:num_files]\n",
    "\n",
    "    for file in tqdm(files):\n",
    "        if file.endswith(\".mp3\"):\n",
    "            audio_file = os.path.join(input_dir, file)\n",
    "            img, fname = mp3_to_img(path=audio_file, height=192, width=192)\n",
    "            save_spec(img, os.path.join(output_dir, fname) + \".jpg\")\n",
    "\n",
    "\n",
    "langs = [\"ar\", \"de\", \"en\", \"es\", \"fr\", \"hi\", \"it\", \"ja\", \"ru\", \"zh-CN\"]\n",
    "\n",
    "for lang in langs:\n",
    "    input_dir = f\"data/mp3/{lang}_train_0/\"\n",
    "    output_dir = f\"data/spectrogram/{lang}_train/\"\n",
    "    print(f\"Converting mp3 files in `{input_dir}` to spectrograms in `{output_dir}`\")\n",
    "    make_spects(input_dir, output_dir, num_files=2000, shuffle=False)"
   ]
  }
 ],
 "metadata": {
  "kernelspec": {
   "display_name": ".venv",
   "language": "python",
   "name": "python3"
  },
  "language_info": {
   "codemirror_mode": {
    "name": "ipython",
    "version": 3
   },
   "file_extension": ".py",
   "mimetype": "text/x-python",
   "name": "python",
   "nbconvert_exporter": "python",
   "pygments_lexer": "ipython3",
   "version": "3.10.5"
  }
 },
 "nbformat": 4,
 "nbformat_minor": 2
}
